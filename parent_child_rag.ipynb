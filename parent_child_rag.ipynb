{
 "cells": [
  {
   "cell_type": "code",
   "execution_count": 2,
   "metadata": {},
   "outputs": [],
   "source": [
    "import openai\n",
    "import os\n",
    "import dotenv\n",
    "from pathlib import Path\n",
    "from llama_index.readers.file import PDFReader\n",
    "from llama_index.core.response.notebook_utils import display_source_node\n",
    "from llama_index.core.retrievers import RecursiveRetriever\n",
    "from llama_index.core.query_engine import RetrieverQueryEngine\n",
    "from llama_index.core import VectorStoreIndex, ServiceContext\n",
    "from llama_index.llms.openai import OpenAI\n",
    "from llama_index.core import Document\n",
    "from llama_index.core.node_parser import SimpleNodeParser\n",
    "from llama_index.core.schema import IndexNode"
   ]
  },
  {
   "cell_type": "code",
   "execution_count": 3,
   "metadata": {},
   "outputs": [],
   "source": [
    "dotenv.load_dotenv()\n",
    "openai.api_key = os.getenv(\"OPENAI_API_KEY\")"
   ]
  },
  {
   "cell_type": "code",
   "execution_count": 5,
   "metadata": {},
   "outputs": [],
   "source": [
    "loader = PDFReader()\n",
    "docs0 = loader.load_data(file=Path(\"G:\\\\Python\\\\Advance_RAG\\\\data\\\\EBOOK_BOT_TRADING.pdf\"))"
   ]
  },
  {
   "cell_type": "code",
   "execution_count": 6,
   "metadata": {},
   "outputs": [],
   "source": [
    "doc_text = \"\\n\\n\".join([d.get_content() for d in docs0])\n",
    "docs = [Document(text=doc_text)]"
   ]
  },
  {
   "cell_type": "code",
   "execution_count": 8,
   "metadata": {},
   "outputs": [],
   "source": [
    "node_parser = SimpleNodeParser.from_defaults(chunk_size=1024)\n",
    "base_nodes = node_parser.get_nodes_from_documents(docs)"
   ]
  },
  {
   "cell_type": "code",
   "execution_count": 10,
   "metadata": {},
   "outputs": [],
   "source": [
    "# set node ids to be a constant\n",
    "for idx, node in enumerate(base_nodes):\n",
    "    node.id_ = f\"node-{idx}\""
   ]
  },
  {
   "cell_type": "code",
   "execution_count": 11,
   "metadata": {},
   "outputs": [],
   "source": [
    "sub_chunk_sizes = [128, 256, 512]\n",
    "sub_node_parsers = [\n",
    "    SimpleNodeParser.from_defaults(chunk_size=c, chunk_overlap=50) for c in sub_chunk_sizes\n",
    "]\n",
    "\n",
    "all_nodes = []\n",
    "for base_node in base_nodes:\n",
    "    for n in sub_node_parsers:\n",
    "        sub_nodes = n.get_nodes_from_documents([base_node])\n",
    "        sub_inodes = [\n",
    "            IndexNode.from_text_node(sn, base_node.node_id) for sn in sub_nodes\n",
    "        ]\n",
    "        all_nodes.extend(sub_inodes)\n",
    "\n",
    "    # also add original node to node\n",
    "    original_node = IndexNode.from_text_node(base_node, base_node.node_id)\n",
    "    all_nodes.append(original_node)"
   ]
  },
  {
   "cell_type": "code",
   "execution_count": 12,
   "metadata": {},
   "outputs": [],
   "source": [
    "all_nodes_dict = {n.node_id: n for n in all_nodes}"
   ]
  },
  {
   "cell_type": "code",
   "execution_count": 13,
   "metadata": {},
   "outputs": [],
   "source": [
    "from llama_index.embeddings.openai import OpenAIEmbedding\n",
    "\n",
    "embed_model = OpenAIEmbedding(embed_batch_size=10)\n",
    "llm = OpenAI(model=\"gpt-4o\")\n",
    "service_context = ServiceContext.from_defaults(\n",
    "    llm=llm, embed_model=embed_model\n",
    ")\n"
   ]
  },
  {
   "cell_type": "code",
   "execution_count": 20,
   "metadata": {},
   "outputs": [
    {
     "name": "stderr",
     "output_type": "stream",
     "text": [
      "C:\\Users\\PC Market\\AppData\\Local\\Temp\\ipykernel_18632\\3567994959.py:6: DeprecationWarning: Call to deprecated class method from_defaults. (ServiceContext is deprecated, please use `llama_index.settings.Settings` instead.) -- Deprecated since version 0.10.0.\n",
      "  service_context = ServiceContext.from_defaults(\n"
     ]
    }
   ],
   "source": [
    "vector_index_chunk = VectorStoreIndex(\n",
    "    all_nodes, service_context=service_context\n",
    ")"
   ]
  },
  {
   "cell_type": "code",
   "execution_count": 25,
   "metadata": {},
   "outputs": [],
   "source": [
    "vector_retriever_chunk = vector_index_chunk.as_retriever(similarity_top_k=5)"
   ]
  },
  {
   "cell_type": "code",
   "execution_count": 26,
   "metadata": {},
   "outputs": [],
   "source": [
    "retriever_chunk = RecursiveRetriever(\n",
    "    \"vector\",\n",
    "    retriever_dict={\"vector\": vector_retriever_chunk},\n",
    "    node_dict=all_nodes_dict,\n",
    "    verbose=True,\n",
    ")"
   ]
  },
  {
   "cell_type": "code",
   "execution_count": 27,
   "metadata": {},
   "outputs": [],
   "source": [
    "query_engine_chunk = RetrieverQueryEngine.from_args(\n",
    "    retriever_chunk, service_context=service_context\n",
    ")"
   ]
  },
  {
   "cell_type": "code",
   "execution_count": 28,
   "metadata": {},
   "outputs": [
    {
     "name": "stdout",
     "output_type": "stream",
     "text": [
      "\u001b[1;3;34mRetrieving with query id None: Tổng hợp các thuật ngữ cơ bản được nhắc đến?\n",
      "\u001b[0m\u001b[1;3;38;5;200mRetrieved node with id, entering: node-29\n",
      "\u001b[0m\u001b[1;3;34mRetrieving with query id node-29: Tổng hợp các thuật ngữ cơ bản được nhắc đến?\n",
      "\u001b[0m\u001b[1;3;38;5;200mRetrieved node with id, entering: node-26\n",
      "\u001b[0m\u001b[1;3;34mRetrieving with query id node-26: Tổng hợp các thuật ngữ cơ bản được nhắc đến?\n",
      "\u001b[0m\u001b[1;3;38;5;200mRetrieved node with id, entering: node-42\n",
      "\u001b[0m\u001b[1;3;34mRetrieving with query id node-42: Tổng hợp các thuật ngữ cơ bản được nhắc đến?\n",
      "\u001b[0m\u001b[1;3;38;5;200mRetrieved node with id, entering: node-46\n",
      "\u001b[0m\u001b[1;3;34mRetrieving with query id node-46: Tổng hợp các thuật ngữ cơ bản được nhắc đến?\n",
      "\u001b[0mCác thuật ngữ cơ bản được nhắc đến bao gồm:\n",
      "\n",
      "1. **Trailing Up, Trailing Down, Stop Loss, Take Profit**: Các tùy chọn bổ sung giúp đảm bảo thu nhập hoặc ngăn ngừa thua lỗ.\n",
      "2. **Bot profit**: Tổng lợi nhuận đạt được từ khi chạy bot cho đến hiện tại.\n",
      "3. **Avg. daily profit**: Lợi nhuận và phần trăm lợi nhuận trung bình bot kiếm được hàng ngày.\n",
      "4. **Unrealized**: Lãi/lỗ danh nghĩa của số vốn mà bot sử dụng ở giá hiện tại.\n",
      "5. **Base currency**: Tổng số coin mà bot đang dùng để đặt lệnh bán.\n",
      "6. **Quote currency**: Tổng lượng tiền hiện tại bot đang dùng để đặt lệnh mua.\n",
      "7. **Value**: Tổng giá trị tài sản tính bằng Base currency và Quote currency.\n",
      "8. **Invested funds**: Lượng coin và tiền ban đầu khi bot được khởi chạy.\n",
      "9. **Pair – Bot type**: Cặp giao dịch và loại bot.\n",
      "10. **Total PNL**: Giá trị của tài sản thay đổi theo thời gian.\n",
      "11. **Avg. daily – Trading time**: Thời gian bot hoạt động.\n",
      "12. **Transactions and Time (Txns/Time)**: Số lượng giao dịch bot đã thực hiện và tổng thời gian hoạt động của bot.\n",
      "13. **Status**: Trạng thái của bot.\n",
      "14. **Sum. bot profit**: Tổng lợi nhuận bot tạo ra.\n",
      "15. **Sum. current value**: Tổng giá trị tài sản ở thời điểm hiện tại.\n"
     ]
    }
   ],
   "source": [
    "response = query_engine_chunk.query(\n",
    "    \"Tổng hợp các thuật ngữ cơ bản được nhắc đến?\"\n",
    ")\n",
    "print(str(response))"
   ]
  }
 ],
 "metadata": {
  "kernelspec": {
   "display_name": "py312",
   "language": "python",
   "name": "python3"
  },
  "language_info": {
   "codemirror_mode": {
    "name": "ipython",
    "version": 3
   },
   "file_extension": ".py",
   "mimetype": "text/x-python",
   "name": "python",
   "nbconvert_exporter": "python",
   "pygments_lexer": "ipython3",
   "version": "3.12.3"
  }
 },
 "nbformat": 4,
 "nbformat_minor": 2
}
